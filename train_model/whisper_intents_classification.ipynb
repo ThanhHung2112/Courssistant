{
 "cells": [
  {
   "cell_type": "code",
   "execution_count": 8,
   "metadata": {},
   "outputs": [],
   "source": [
    "import pandas as pd"
   ]
  },
  {
   "cell_type": "markdown",
   "metadata": {},
   "source": [
    "# Prepair Data"
   ]
  },
  {
   "cell_type": "code",
   "execution_count": 9,
   "metadata": {},
   "outputs": [
    {
     "data": {
      "text/html": [
       "<div>\n",
       "<style scoped>\n",
       "    .dataframe tbody tr th:only-of-type {\n",
       "        vertical-align: middle;\n",
       "    }\n",
       "\n",
       "    .dataframe tbody tr th {\n",
       "        vertical-align: top;\n",
       "    }\n",
       "\n",
       "    .dataframe thead th {\n",
       "        text-align: right;\n",
       "    }\n",
       "</style>\n",
       "<table border=\"1\" class=\"dataframe\">\n",
       "  <thead>\n",
       "    <tr style=\"text-align: right;\">\n",
       "      <th></th>\n",
       "      <th>messages</th>\n",
       "      <th>intent</th>\n",
       "    </tr>\n",
       "  </thead>\n",
       "  <tbody>\n",
       "    <tr>\n",
       "      <th>0</th>\n",
       "      <td>Can you speak to me?</td>\n",
       "      <td>Whisper on</td>\n",
       "    </tr>\n",
       "    <tr>\n",
       "      <th>1</th>\n",
       "      <td>Enable voice responses.</td>\n",
       "      <td>Whisper on</td>\n",
       "    </tr>\n",
       "    <tr>\n",
       "      <th>2</th>\n",
       "      <td>Turn on voice replies.</td>\n",
       "      <td>Whisper on</td>\n",
       "    </tr>\n",
       "    <tr>\n",
       "      <th>3</th>\n",
       "      <td>Can you reply with your voice?</td>\n",
       "      <td>Whisper on</td>\n",
       "    </tr>\n",
       "    <tr>\n",
       "      <th>4</th>\n",
       "      <td>Activate audio responses.</td>\n",
       "      <td>Whisper on</td>\n",
       "    </tr>\n",
       "    <tr>\n",
       "      <th>...</th>\n",
       "      <td>...</td>\n",
       "      <td>...</td>\n",
       "    </tr>\n",
       "    <tr>\n",
       "      <th>395</th>\n",
       "      <td>Turn on text replies only.</td>\n",
       "      <td>Whisper off</td>\n",
       "    </tr>\n",
       "    <tr>\n",
       "      <th>396</th>\n",
       "      <td>I prefer text answers.</td>\n",
       "      <td>Whisper off</td>\n",
       "    </tr>\n",
       "    <tr>\n",
       "      <th>397</th>\n",
       "      <td>Disable voice responses.</td>\n",
       "      <td>Whisper off</td>\n",
       "    </tr>\n",
       "    <tr>\n",
       "      <th>398</th>\n",
       "      <td>Can you answer using text instead?</td>\n",
       "      <td>Whisper off</td>\n",
       "    </tr>\n",
       "    <tr>\n",
       "      <th>399</th>\n",
       "      <td>Use text to respond instead of voice.</td>\n",
       "      <td>Whisper off</td>\n",
       "    </tr>\n",
       "  </tbody>\n",
       "</table>\n",
       "<p>400 rows × 2 columns</p>\n",
       "</div>"
      ],
      "text/plain": [
       "                                  messages       intent\n",
       "0                     Can you speak to me?   Whisper on\n",
       "1                  Enable voice responses.   Whisper on\n",
       "2                   Turn on voice replies.   Whisper on\n",
       "3           Can you reply with your voice?   Whisper on\n",
       "4                Activate audio responses.   Whisper on\n",
       "..                                     ...          ...\n",
       "395             Turn on text replies only.  Whisper off\n",
       "396                 I prefer text answers.  Whisper off\n",
       "397               Disable voice responses.  Whisper off\n",
       "398     Can you answer using text instead?  Whisper off\n",
       "399  Use text to respond instead of voice.  Whisper off\n",
       "\n",
       "[400 rows x 2 columns]"
      ]
     },
     "execution_count": 9,
     "metadata": {},
     "output_type": "execute_result"
    }
   ],
   "source": [
    "whisper_intent = pd.read_csv(\"../assistant/data/whisper_intents.csv\")\n",
    "whisper_intent"
   ]
  },
  {
   "cell_type": "code",
   "execution_count": 10,
   "metadata": {},
   "outputs": [
    {
     "data": {
      "text/html": [
       "<div>\n",
       "<style scoped>\n",
       "    .dataframe tbody tr th:only-of-type {\n",
       "        vertical-align: middle;\n",
       "    }\n",
       "\n",
       "    .dataframe tbody tr th {\n",
       "        vertical-align: top;\n",
       "    }\n",
       "\n",
       "    .dataframe thead th {\n",
       "        text-align: right;\n",
       "    }\n",
       "</style>\n",
       "<table border=\"1\" class=\"dataframe\">\n",
       "  <thead>\n",
       "    <tr style=\"text-align: right;\">\n",
       "      <th></th>\n",
       "      <th>messages</th>\n",
       "      <th>intent</th>\n",
       "    </tr>\n",
       "  </thead>\n",
       "  <tbody>\n",
       "    <tr>\n",
       "      <th>0</th>\n",
       "      <td>What are the benefits of taking online courses?</td>\n",
       "      <td>Negative</td>\n",
       "    </tr>\n",
       "    <tr>\n",
       "      <th>1</th>\n",
       "      <td>What are the drawbacks of online courses compa...</td>\n",
       "      <td>Negative</td>\n",
       "    </tr>\n",
       "    <tr>\n",
       "      <th>2</th>\n",
       "      <td>How can I search for reputable online courses?</td>\n",
       "      <td>Negative</td>\n",
       "    </tr>\n",
       "    <tr>\n",
       "      <th>3</th>\n",
       "      <td>What criteria should I use when selecting an o...</td>\n",
       "      <td>Negative</td>\n",
       "    </tr>\n",
       "    <tr>\n",
       "      <th>4</th>\n",
       "      <td>How do I verify the accreditation of an online...</td>\n",
       "      <td>Negative</td>\n",
       "    </tr>\n",
       "    <tr>\n",
       "      <th>...</th>\n",
       "      <td>...</td>\n",
       "      <td>...</td>\n",
       "    </tr>\n",
       "    <tr>\n",
       "      <th>8726</th>\n",
       "      <td>explore the course on Complex Analysis and Rie...</td>\n",
       "      <td>Open Landing Page</td>\n",
       "    </tr>\n",
       "    <tr>\n",
       "      <th>8727</th>\n",
       "      <td>open the page for a Stochastic Processes course</td>\n",
       "      <td>Open Landing Page</td>\n",
       "    </tr>\n",
       "    <tr>\n",
       "      <th>8728</th>\n",
       "      <td>show me the course on Mathematical Logic and A...</td>\n",
       "      <td>Open Landing Page</td>\n",
       "    </tr>\n",
       "    <tr>\n",
       "      <th>8729</th>\n",
       "      <td>can you find the landing page for Mathematical...</td>\n",
       "      <td>Open Landing Page</td>\n",
       "    </tr>\n",
       "    <tr>\n",
       "      <th>8730</th>\n",
       "      <td>explore the course on Mathematical Physics and...</td>\n",
       "      <td>Open Landing Page</td>\n",
       "    </tr>\n",
       "  </tbody>\n",
       "</table>\n",
       "<p>8731 rows × 2 columns</p>\n",
       "</div>"
      ],
      "text/plain": [
       "                                               messages             intent\n",
       "0       What are the benefits of taking online courses?           Negative\n",
       "1     What are the drawbacks of online courses compa...           Negative\n",
       "2        How can I search for reputable online courses?           Negative\n",
       "3     What criteria should I use when selecting an o...           Negative\n",
       "4     How do I verify the accreditation of an online...           Negative\n",
       "...                                                 ...                ...\n",
       "8726  explore the course on Complex Analysis and Rie...  Open Landing Page\n",
       "8727    open the page for a Stochastic Processes course  Open Landing Page\n",
       "8728  show me the course on Mathematical Logic and A...  Open Landing Page\n",
       "8729  can you find the landing page for Mathematical...  Open Landing Page\n",
       "8730  explore the course on Mathematical Physics and...  Open Landing Page\n",
       "\n",
       "[8731 rows x 2 columns]"
      ]
     },
     "execution_count": 10,
     "metadata": {},
     "output_type": "execute_result"
    }
   ],
   "source": [
    "common_intent_df = pd.read_csv(\"../assistant/data/intent_classification_data.csv\")\n",
    "common_intent_df"
   ]
  },
  {
   "cell_type": "code",
   "execution_count": 11,
   "metadata": {},
   "outputs": [],
   "source": [
    "# Shuffle DataFrame common_intent_df\n",
    "common_intent_df = common_intent_df.sample(frac=1).reset_index(drop=True)\n",
    "\n",
    "# 400 sample\n",
    "sampled_common_messages = common_intent_df['messages'].head(400)\n",
    "\n",
    "whisper_intent_extent = whisper_intent.copy()\n",
    "whisper_intent_extent['messages'] = whisper_intent['messages'] + ' ' + sampled_common_messages\n"
   ]
  },
  {
   "cell_type": "code",
   "execution_count": 13,
   "metadata": {},
   "outputs": [],
   "source": [
    "mapping = {\n",
    "    \"Whisper on\": \"whisperon_n_intent\",\n",
    "    \"Whisper off\": \"whisperoff_n_intent\"\n",
    "}\n",
    "\n",
    "whisper_intent_extent['intent'] = whisper_intent_extent['intent'].map(mapping)"
   ]
  },
  {
   "cell_type": "code",
   "execution_count": 16,
   "metadata": {},
   "outputs": [
    {
     "data": {
      "text/html": [
       "<div>\n",
       "<style scoped>\n",
       "    .dataframe tbody tr th:only-of-type {\n",
       "        vertical-align: middle;\n",
       "    }\n",
       "\n",
       "    .dataframe tbody tr th {\n",
       "        vertical-align: top;\n",
       "    }\n",
       "\n",
       "    .dataframe thead th {\n",
       "        text-align: right;\n",
       "    }\n",
       "</style>\n",
       "<table border=\"1\" class=\"dataframe\">\n",
       "  <thead>\n",
       "    <tr style=\"text-align: right;\">\n",
       "      <th></th>\n",
       "      <th>messages</th>\n",
       "      <th>intent</th>\n",
       "    </tr>\n",
       "  </thead>\n",
       "  <tbody>\n",
       "    <tr>\n",
       "      <th>0</th>\n",
       "      <td>Can you speak to me? Can you recommend any TED...</td>\n",
       "      <td>whisperon_n_intent</td>\n",
       "    </tr>\n",
       "    <tr>\n",
       "      <th>1</th>\n",
       "      <td>Enable voice responses. How do homeschoolers h...</td>\n",
       "      <td>whisperon_n_intent</td>\n",
       "    </tr>\n",
       "    <tr>\n",
       "      <th>2</th>\n",
       "      <td>Turn on voice replies. Can I access personaliz...</td>\n",
       "      <td>whisperon_n_intent</td>\n",
       "    </tr>\n",
       "    <tr>\n",
       "      <th>3</th>\n",
       "      <td>Can you reply with your voice? Display the cou...</td>\n",
       "      <td>whisperon_n_intent</td>\n",
       "    </tr>\n",
       "    <tr>\n",
       "      <th>4</th>\n",
       "      <td>Activate audio responses. Can you provide exam...</td>\n",
       "      <td>whisperon_n_intent</td>\n",
       "    </tr>\n",
       "    <tr>\n",
       "      <th>...</th>\n",
       "      <td>...</td>\n",
       "      <td>...</td>\n",
       "    </tr>\n",
       "    <tr>\n",
       "      <th>1195</th>\n",
       "      <td>Turn on text replies only.</td>\n",
       "      <td>Whisper off</td>\n",
       "    </tr>\n",
       "    <tr>\n",
       "      <th>1196</th>\n",
       "      <td>I prefer text answers.</td>\n",
       "      <td>Whisper off</td>\n",
       "    </tr>\n",
       "    <tr>\n",
       "      <th>1197</th>\n",
       "      <td>Disable voice responses.</td>\n",
       "      <td>Whisper off</td>\n",
       "    </tr>\n",
       "    <tr>\n",
       "      <th>1198</th>\n",
       "      <td>Can you answer using text instead?</td>\n",
       "      <td>Whisper off</td>\n",
       "    </tr>\n",
       "    <tr>\n",
       "      <th>1199</th>\n",
       "      <td>Use text to respond instead of voice.</td>\n",
       "      <td>Whisper off</td>\n",
       "    </tr>\n",
       "  </tbody>\n",
       "</table>\n",
       "<p>1200 rows × 2 columns</p>\n",
       "</div>"
      ],
      "text/plain": [
       "                                               messages              intent\n",
       "0     Can you speak to me? Can you recommend any TED...  whisperon_n_intent\n",
       "1     Enable voice responses. How do homeschoolers h...  whisperon_n_intent\n",
       "2     Turn on voice replies. Can I access personaliz...  whisperon_n_intent\n",
       "3     Can you reply with your voice? Display the cou...  whisperon_n_intent\n",
       "4     Activate audio responses. Can you provide exam...  whisperon_n_intent\n",
       "...                                                 ...                 ...\n",
       "1195                         Turn on text replies only.         Whisper off\n",
       "1196                             I prefer text answers.         Whisper off\n",
       "1197                           Disable voice responses.         Whisper off\n",
       "1198                 Can you answer using text instead?         Whisper off\n",
       "1199              Use text to respond instead of voice.         Whisper off\n",
       "\n",
       "[1200 rows x 2 columns]"
      ]
     },
     "execution_count": 16,
     "metadata": {},
     "output_type": "execute_result"
    }
   ],
   "source": [
    "whisper_intent_extent = pd.concat([whisper_intent_extent, whisper_intent], ignore_index=True)\n",
    "whisper_intent_extent"
   ]
  },
  {
   "cell_type": "code",
   "execution_count": 18,
   "metadata": {},
   "outputs": [],
   "source": [
    "# Shuffle DataFrame common_intent_df\n",
    "common_intent_df = common_intent_df.sample(frac=1).reset_index(drop=True)\n",
    "\n",
    "# 500 sample\n",
    "sampled_common_intent_df = common_intent_df.sample(n=500)\n",
    "sampled_common_intent_df['intent'] = 'Common'\n",
    "sampled_common_intent_df\n",
    "train_whisper_intents = pd.concat([whisper_intent_extent, sampled_common_intent_df], ignore_index=True)\n"
   ]
  },
  {
   "cell_type": "code",
   "execution_count": 81,
   "metadata": {},
   "outputs": [
    {
     "data": {
      "text/html": [
       "<div>\n",
       "<style scoped>\n",
       "    .dataframe tbody tr th:only-of-type {\n",
       "        vertical-align: middle;\n",
       "    }\n",
       "\n",
       "    .dataframe tbody tr th {\n",
       "        vertical-align: top;\n",
       "    }\n",
       "\n",
       "    .dataframe thead th {\n",
       "        text-align: right;\n",
       "    }\n",
       "</style>\n",
       "<table border=\"1\" class=\"dataframe\">\n",
       "  <thead>\n",
       "    <tr style=\"text-align: right;\">\n",
       "      <th></th>\n",
       "      <th>messages</th>\n",
       "      <th>intent</th>\n",
       "    </tr>\n",
       "  </thead>\n",
       "  <tbody>\n",
       "    <tr>\n",
       "      <th>0</th>\n",
       "      <td>Open, Display offerings in Romantic Poetry.</td>\n",
       "      <td>Common</td>\n",
       "    </tr>\n",
       "    <tr>\n",
       "      <th>1</th>\n",
       "      <td>Please open the course page for Tissue Enginee...</td>\n",
       "      <td>Common</td>\n",
       "    </tr>\n",
       "    <tr>\n",
       "      <th>2</th>\n",
       "      <td>Talk to me using text. Show me courses on soci...</td>\n",
       "      <td>Whisper off</td>\n",
       "    </tr>\n",
       "    <tr>\n",
       "      <th>3</th>\n",
       "      <td>What background knowledge is expected for stud...</td>\n",
       "      <td>Common</td>\n",
       "    </tr>\n",
       "    <tr>\n",
       "      <th>4</th>\n",
       "      <td>Talk to me using sound. Are there any opportun...</td>\n",
       "      <td>Whisper on</td>\n",
       "    </tr>\n",
       "    <tr>\n",
       "      <th>...</th>\n",
       "      <td>...</td>\n",
       "      <td>...</td>\n",
       "    </tr>\n",
       "    <tr>\n",
       "      <th>1295</th>\n",
       "      <td>Enable verbal mode.</td>\n",
       "      <td>Whisper on</td>\n",
       "    </tr>\n",
       "    <tr>\n",
       "      <th>1296</th>\n",
       "      <td>Can you answer using voice?</td>\n",
       "      <td>Whisper on</td>\n",
       "    </tr>\n",
       "    <tr>\n",
       "      <th>1297</th>\n",
       "      <td>Can you respond in text? What literary works a...</td>\n",
       "      <td>Whisper off</td>\n",
       "    </tr>\n",
       "    <tr>\n",
       "      <th>1298</th>\n",
       "      <td>Use your voice to reply to me. Are there any p...</td>\n",
       "      <td>Whisper on</td>\n",
       "    </tr>\n",
       "    <tr>\n",
       "      <th>1299</th>\n",
       "      <td>I want answers by voice.</td>\n",
       "      <td>Whisper on</td>\n",
       "    </tr>\n",
       "  </tbody>\n",
       "</table>\n",
       "<p>1300 rows × 2 columns</p>\n",
       "</div>"
      ],
      "text/plain": [
       "                                               messages       intent\n",
       "0           Open, Display offerings in Romantic Poetry.       Common\n",
       "1     Please open the course page for Tissue Enginee...       Common\n",
       "2     Talk to me using text. Show me courses on soci...  Whisper off\n",
       "3     What background knowledge is expected for stud...       Common\n",
       "4     Talk to me using sound. Are there any opportun...   Whisper on\n",
       "...                                                 ...          ...\n",
       "1295                                Enable verbal mode.   Whisper on\n",
       "1296                        Can you answer using voice?   Whisper on\n",
       "1297  Can you respond in text? What literary works a...  Whisper off\n",
       "1298  Use your voice to reply to me. Are there any p...   Whisper on\n",
       "1299                           I want answers by voice.   Whisper on\n",
       "\n",
       "[1300 rows x 2 columns]"
      ]
     },
     "execution_count": 81,
     "metadata": {},
     "output_type": "execute_result"
    }
   ],
   "source": [
    "train_whisper_intents = train_whisper_intents.sample(frac=1).reset_index(drop=True)\n",
    "train_whisper_intents"
   ]
  },
  {
   "cell_type": "markdown",
   "metadata": {},
   "source": [
    "# Init model"
   ]
  },
  {
   "cell_type": "code",
   "execution_count": 19,
   "metadata": {},
   "outputs": [
    {
     "name": "stderr",
     "output_type": "stream",
     "text": [
      "/opt/anaconda3/envs/rasa/lib/python3.9/site-packages/tqdm/auto.py:21: TqdmWarning: IProgress not found. Please update jupyter and ipywidgets. See https://ipywidgets.readthedocs.io/en/stable/user_install.html\n",
      "  from .autonotebook import tqdm as notebook_tqdm\n"
     ]
    }
   ],
   "source": [
    "import numpy as np \n",
    "import torch\n",
    "import torch.nn as nn\n",
    "from sklearn.model_selection import train_test_split\n",
    "from sklearn.metrics import accuracy_score\n",
    "from torch.utils.data import DataLoader, TensorDataset\n",
    "from transformers import AutoTokenizer, RobertaModel, TrainingArguments, Trainer"
   ]
  },
  {
   "cell_type": "code",
   "execution_count": 21,
   "metadata": {},
   "outputs": [
    {
     "name": "stderr",
     "output_type": "stream",
     "text": [
      "Some weights of RobertaModel were not initialized from the model checkpoint at FacebookAI/roberta-base and are newly initialized: ['roberta.pooler.dense.bias', 'roberta.pooler.dense.weight']\n",
      "You should probably TRAIN this model on a down-stream task to be able to use it for predictions and inference.\n"
     ]
    }
   ],
   "source": [
    "# define RoBERTa model\n",
    "roberta_tokenizer = AutoTokenizer.from_pretrained(\"FacebookAI/roberta-base\")\n",
    "roberta_model = RobertaModel.from_pretrained(\"FacebookAI/roberta-base\")"
   ]
  },
  {
   "cell_type": "code",
   "execution_count": 22,
   "metadata": {},
   "outputs": [],
   "source": [
    "intents = {\n",
    "    'Whisper on': 0,\n",
    "    'Whisper off': 1,\n",
    "    'whisperon_n_intent': 2,\n",
    "    'whisperoff_n_intent': 3,\n",
    "    'Common': 4,\n",
    "}\n",
    "for item in train_whisper_intents[\"intent\"]:\n",
    "    if item not in intents:\n",
    "        print(f\"intent value '{item}' not found in intents dictionary.\")"
   ]
  },
  {
   "cell_type": "code",
   "execution_count": 23,
   "metadata": {},
   "outputs": [],
   "source": [
    "train_data, test_data = train_test_split(train_whisper_intents, test_size=0.2, random_state=42)\n",
    "\n",
    "def prepare_input_data(data):\n",
    "    encoded_data = roberta_tokenizer(data[\"messages\"].tolist(), padding=True, truncation=True, return_tensors=\"pt\")\n",
    "    return encoded_data"
   ]
  },
  {
   "cell_type": "code",
   "execution_count": 29,
   "metadata": {},
   "outputs": [
    {
     "name": "stdout",
     "output_type": "stream",
     "text": [
      "1360\n",
      "1360\n"
     ]
    }
   ],
   "source": [
    "train_inputs = prepare_input_data(train_data)\n",
    "test_inputs = prepare_input_data(test_data)\n",
    "\n",
    "train_labels = torch.tensor([intents[item] for item in train_data[\"intent\"]])\n",
    "test_labels = torch.tensor([intents[item] for item in test_data[\"intent\"]])\n",
    "\n",
    "print(len(train_inputs['input_ids']))\n",
    "print(len(train_labels))"
   ]
  },
  {
   "cell_type": "code",
   "execution_count": 30,
   "metadata": {},
   "outputs": [
    {
     "name": "stdout",
     "output_type": "stream",
     "text": [
      "Selected Device: mps\n"
     ]
    }
   ],
   "source": [
    "class WhisperIntentClassifier(nn.Module):\n",
    "    def __init__(self, bert_model, num_classes):\n",
    "        super(WhisperIntentClassifier, self).__init__()\n",
    "        self.bert = bert_model\n",
    "        self.relu1 = nn.ReLU()\n",
    "        self.relu2 = nn.ReLU()\n",
    "        self.fc = nn.Linear(self.bert.config.hidden_size, num_classes)\n",
    "\n",
    "    def forward(self, input_ids, attention_mask):\n",
    "        outputs = self.bert(input_ids, attention_mask=attention_mask)\n",
    "        pooled_output = outputs.last_hidden_state[:, 0, :]\n",
    "        x = self.relu1(pooled_output)\n",
    "        x = self.relu2(x)\n",
    "        logits = self.fc(x)\n",
    "        return logits\n",
    "    \n",
    "num_classes = 5\n",
    "model = WhisperIntentClassifier(roberta_model, num_classes)\n",
    "\n",
    "# Check if GPU is available and move the model to GPU\n",
    "device = torch.device(\"mps\" if torch.backends.mps.is_available() else \"cpu\")\n",
    "print(\"Selected Device:\", device)\n",
    "model = model.to(device)\n",
    "\n",
    "criterion = nn.CrossEntropyLoss()\n",
    "optimizer = torch.optim.Adam(model.parameters(), lr=2e-5)"
   ]
  },
  {
   "cell_type": "code",
   "execution_count": 31,
   "metadata": {},
   "outputs": [
    {
     "name": "stdout",
     "output_type": "stream",
     "text": [
      "Selected Device: mps\n"
     ]
    }
   ],
   "source": [
    "if not torch.backends.mps.is_available():\n",
    "    if not torch.backends.mps.is_built():\n",
    "        print(\"MPS not available because the current PyTorch install was not \"\n",
    "              \"built with MPS enabled.\")\n",
    "    else:\n",
    "        print(\"MPS not available because the current MacOS version is not 12.3+ \"\n",
    "              \"and/or you do not have an MPS-enabled device on this machine.\")\n",
    "\n",
    "else:\n",
    "    print(\"Selected Device:\", device)\n",
    "    device = torch.device(\"mps\")\n"
   ]
  },
  {
   "cell_type": "code",
   "execution_count": 32,
   "metadata": {},
   "outputs": [],
   "source": [
    "# Define batch size\n",
    "batch_size = 32\n",
    "\n",
    "# Create DataLoader for training data\n",
    "train_dataset = TensorDataset(train_inputs['input_ids'], train_inputs['attention_mask'], train_labels)\n",
    "train_data_loader = DataLoader(train_dataset, batch_size=batch_size, shuffle=True)"
   ]
  },
  {
   "cell_type": "code",
   "execution_count": 33,
   "metadata": {},
   "outputs": [
    {
     "name": "stdout",
     "output_type": "stream",
     "text": [
      "Epoch 1/5, Average Loss: 0.6099370607109957\n",
      "Epoch 2/5, Average Loss: 0.05188523921682391\n",
      "Epoch 3/5, Average Loss: 0.01821854348879221\n",
      "Epoch 4/5, Average Loss: 0.012381587025904379\n",
      "Epoch 5/5, Average Loss: 0.008743080137254194\n"
     ]
    }
   ],
   "source": [
    "num_epochs = 5\n",
    "# Train the model\n",
    "for epoch in range(num_epochs):\n",
    "    model.train()\n",
    "    total_loss = 0\n",
    "    for batch in train_data_loader:\n",
    "        input_ids, attention_mask, labels = batch\n",
    "        input_ids, attention_mask, labels = input_ids.to(device), attention_mask.to(device), labels.to(device)\n",
    "        optimizer.zero_grad()\n",
    "        logits = model(input_ids, attention_mask)\n",
    "        loss = criterion(logits, labels)\n",
    "        loss.backward()\n",
    "        optimizer.step()\n",
    "        total_loss += loss.item()\n",
    "    print(f'Epoch {epoch + 1}/{num_epochs}, Average Loss: {total_loss / len(train_data_loader)}')"
   ]
  },
  {
   "cell_type": "code",
   "execution_count": 34,
   "metadata": {},
   "outputs": [
    {
     "name": "stdout",
     "output_type": "stream",
     "text": [
      "Accuracy on test set: 99.71%\n"
     ]
    }
   ],
   "source": [
    "# Evaluation\n",
    "model.eval()\n",
    "with torch.no_grad():\n",
    "    # Move input data to the device\n",
    "    test_input_ids = test_inputs['input_ids'].to(device)\n",
    "    test_attention_mask = test_inputs['attention_mask'].to(device)\n",
    "    \n",
    "    # Forward pass\n",
    "    logits = model(test_input_ids, test_attention_mask)\n",
    "    predicted_labels = torch.argmax(logits, dim=1)\n",
    "    \n",
    "    # Move predicted labels back to CPU for accuracy calculation\n",
    "    predicted_labels = predicted_labels.cpu()\n",
    "    \n",
    "    # Calculate accuracy\n",
    "    accuracy = accuracy_score(test_labels, predicted_labels)\n",
    "    print(f'Accuracy on test set: {accuracy * 100:.2f}%')"
   ]
  },
  {
   "cell_type": "code",
   "execution_count": 35,
   "metadata": {},
   "outputs": [
    {
     "data": {
      "text/plain": [
       "('models/whisper_intents/whisper_intent_tokenizer/tokenizer_config.json',\n",
       " 'models/whisper_intents/whisper_intent_tokenizer/special_tokens_map.json',\n",
       " 'models/whisper_intents/whisper_intent_tokenizer/vocab.json',\n",
       " 'models/whisper_intents/whisper_intent_tokenizer/merges.txt',\n",
       " 'models/whisper_intents/whisper_intent_tokenizer/added_tokens.json',\n",
       " 'models/whisper_intents/whisper_intent_tokenizer/tokenizer.json')"
      ]
     },
     "execution_count": 35,
     "metadata": {},
     "output_type": "execute_result"
    }
   ],
   "source": [
    "# Save model state_dict\n",
    "torch.save(model.state_dict(), 'models/whisper_intents/whisper_intent_model.pth')\n",
    "\n",
    "# Save tokenizer\n",
    "roberta_tokenizer.save_pretrained('models/whisper_intents/whisper_intent_tokenizer')"
   ]
  },
  {
   "cell_type": "code",
   "execution_count": 38,
   "metadata": {},
   "outputs": [
    {
     "name": "stdout",
     "output_type": "stream",
     "text": [
      "The predicted whisper intent for the sentence is: whisperon_n_intent\n"
     ]
    }
   ],
   "source": [
    "def predict_intents(sentence, model, tokenizer, tense_labels, device):\n",
    "    # Move model and tokenizer to the specified device\n",
    "    model = model.to(device)\n",
    "    tokenizer = tokenizer\n",
    "    \n",
    "    # Tokenize the sentence\n",
    "    encoded_sentence = tokenizer(sentence, padding=True, truncation=True, return_tensors=\"pt\").to(device)\n",
    "    \n",
    "    with torch.no_grad():\n",
    "        # Forward pass\n",
    "        logits = model(encoded_sentence['input_ids'], encoded_sentence['attention_mask'])\n",
    "        predicted_label = torch.argmax(logits, dim=1).item()\n",
    "    \n",
    "    # Get the predicted tense label\n",
    "    predicted_intent = [k for k, v in tense_labels.items() if v == predicted_label][0]\n",
    "    \n",
    "    return predicted_intent\n",
    "\n",
    "# Specify the device (e.g., 'cuda', 'mps' for GPU or 'cpu' for CPU)\n",
    "device = 'mps' if torch.backends.mps.is_available() else 'cpu'\n",
    "sentence_to_predict = \"\"\"\n",
    "Now let using voice and tell me who is your favourist teacher ?\n",
    "\"\"\"\n",
    "predicted_intent = predict_intents(sentence_to_predict, model, roberta_tokenizer, intents, device)\n",
    "print(f\"The predicted whisper intent for the sentence is: {predicted_intent}\")\n"
   ]
  },
  {
   "cell_type": "code",
   "execution_count": null,
   "metadata": {},
   "outputs": [],
   "source": []
  }
 ],
 "metadata": {
  "kernelspec": {
   "display_name": "trans",
   "language": "python",
   "name": "python3"
  },
  "language_info": {
   "codemirror_mode": {
    "name": "ipython",
    "version": 3
   },
   "file_extension": ".py",
   "mimetype": "text/x-python",
   "name": "python",
   "nbconvert_exporter": "python",
   "pygments_lexer": "ipython3",
   "version": "3.9.19"
  }
 },
 "nbformat": 4,
 "nbformat_minor": 2
}
