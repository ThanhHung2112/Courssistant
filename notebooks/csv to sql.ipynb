{
 "cells": [
  {
   "cell_type": "code",
   "execution_count": 1,
   "metadata": {},
   "outputs": [
    {
     "name": "stdout",
     "output_type": "stream",
     "text": [
      "Data imported successfully.\n"
     ]
    }
   ],
   "source": [
    "import pandas as pd\n",
    "from sqlalchemy import create_engine, MetaData, Table, Column, Integer, String, Float, Text\n",
    "\n",
    "\n",
    "df = pd.read_csv(\"df_c.csv\")\n",
    "df['id'] = range(1, len(df) + 1)\n",
    "df = df.drop(columns=['Course URL'])\n",
    "\n",
    "df = df[['id'] + [col for col in df.columns if col != 'id']]\n",
    "\n",
    "type = 'mysql+pymysql'\n",
    "api = 'pymysql'\n",
    "host = 'localhost'\n",
    "user = 'root'\n",
    "password = ''\n",
    "database = 'courssistant'\n",
    "\n",
    "uri = f\"{type}://{user}:{password}@{host}/{database}\"\n",
    "engine = create_engine(uri)\n",
    "# Course Name,University,Difficulty Level,\n",
    "# Course Rating,Course URL,Course Description,\n",
    "# Skills,Specialized,Name Adjusted,Description Adjusted,\n",
    "# Sequence,Vector,IDF,BERT_Encoded,Course_Name_Encoded\n",
    "\n",
    "metadata = MetaData()\n",
    "courses = Table('courses', metadata,\n",
    "                Column('id', Integer, primary_key=True),\n",
    "                Column('Course Name', String(255)),\n",
    "                Column('University', String(255)),\n",
    "                Column('Difficulty Level', String(50)),\n",
    "                Column('Course Rating', Float),\n",
    "                Column('Course Description', Text),\n",
    "                Column('Skills', Text),\n",
    "                Column('Specialized', String(255)),\n",
    "                Column('Name Adjusted', String(255)),\n",
    "                Column('Description Adjusted', Text),\n",
    "                Column('Sequence', Text),\n",
    "                Column('Vector', Text),\n",
    "                Column('IDF', Text),\n",
    "                Column('BERT_Encoded', Text),\n",
    "                Column('Course_Name_Encoded', Text),\n",
    "                )\n",
    "\n",
    "metadata.create_all(engine)\n",
    "\n",
    "df.to_sql('courses', engine, if_exists='append', index=False)\n",
    "\n",
    "print(\"Data imported successfully.\")"
   ]
  },
  {
   "cell_type": "code",
   "execution_count": null,
   "metadata": {},
   "outputs": [],
   "source": [
    "%pip install mysql-connector-python-rf"
   ]
  },
  {
   "cell_type": "code",
   "execution_count": null,
   "metadata": {},
   "outputs": [],
   "source": []
  }
 ],
 "metadata": {
  "kernelspec": {
   "display_name": "Python 3",
   "language": "python",
   "name": "python3"
  },
  "language_info": {
   "codemirror_mode": {
    "name": "ipython",
    "version": 3
   },
   "file_extension": ".py",
   "mimetype": "text/x-python",
   "name": "python",
   "nbconvert_exporter": "python",
   "pygments_lexer": "ipython3",
   "version": "3.9.1"
  }
 },
 "nbformat": 4,
 "nbformat_minor": 2
}
