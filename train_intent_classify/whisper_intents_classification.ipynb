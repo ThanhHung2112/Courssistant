{
 "cells": [
  {
   "cell_type": "code",
<<<<<<< HEAD
   "execution_count": 4,
=======
   "execution_count": 23,
>>>>>>> e14947974958d715e5f018393eacc28abbe98ac1
   "metadata": {},
   "outputs": [],
   "source": [
    "import pandas as pd"
   ]
  },
  {
   "cell_type": "markdown",
   "metadata": {},
   "source": [
    "# Prepair Data"
   ]
  },
  {
   "cell_type": "code",
<<<<<<< HEAD
   "execution_count": 5,
=======
   "execution_count": 24,
>>>>>>> e14947974958d715e5f018393eacc28abbe98ac1
   "metadata": {},
   "outputs": [
    {
     "data": {
      "text/html": [
       "<div>\n",
       "<style scoped>\n",
       "    .dataframe tbody tr th:only-of-type {\n",
       "        vertical-align: middle;\n",
       "    }\n",
       "\n",
       "    .dataframe tbody tr th {\n",
       "        vertical-align: top;\n",
       "    }\n",
       "\n",
       "    .dataframe thead th {\n",
       "        text-align: right;\n",
       "    }\n",
       "</style>\n",
       "<table border=\"1\" class=\"dataframe\">\n",
       "  <thead>\n",
       "    <tr style=\"text-align: right;\">\n",
       "      <th></th>\n",
       "      <th>messages</th>\n",
       "      <th>intent</th>\n",
       "    </tr>\n",
       "  </thead>\n",
       "  <tbody>\n",
       "    <tr>\n",
       "      <th>0</th>\n",
       "      <td>Can you speak to me?</td>\n",
       "      <td>Whisper on</td>\n",
       "    </tr>\n",
       "    <tr>\n",
       "      <th>1</th>\n",
       "      <td>Enable voice responses.</td>\n",
       "      <td>Whisper on</td>\n",
       "    </tr>\n",
       "    <tr>\n",
       "      <th>2</th>\n",
       "      <td>Turn on voice replies.</td>\n",
       "      <td>Whisper on</td>\n",
       "    </tr>\n",
       "    <tr>\n",
       "      <th>3</th>\n",
       "      <td>Can you reply with your voice?</td>\n",
       "      <td>Whisper on</td>\n",
       "    </tr>\n",
       "    <tr>\n",
       "      <th>4</th>\n",
       "      <td>Activate audio responses.</td>\n",
       "      <td>Whisper on</td>\n",
       "    </tr>\n",
       "    <tr>\n",
       "      <th>...</th>\n",
       "      <td>...</td>\n",
       "      <td>...</td>\n",
       "    </tr>\n",
       "    <tr>\n",
       "      <th>395</th>\n",
       "      <td>Turn on text replies only.</td>\n",
       "      <td>Whisper off</td>\n",
       "    </tr>\n",
       "    <tr>\n",
       "      <th>396</th>\n",
       "      <td>I prefer text answers.</td>\n",
       "      <td>Whisper off</td>\n",
       "    </tr>\n",
       "    <tr>\n",
       "      <th>397</th>\n",
       "      <td>Disable voice responses.</td>\n",
       "      <td>Whisper off</td>\n",
       "    </tr>\n",
       "    <tr>\n",
       "      <th>398</th>\n",
       "      <td>Can you answer using text instead?</td>\n",
       "      <td>Whisper off</td>\n",
       "    </tr>\n",
       "    <tr>\n",
       "      <th>399</th>\n",
       "      <td>Use text to respond instead of voice.</td>\n",
       "      <td>Whisper off</td>\n",
       "    </tr>\n",
       "  </tbody>\n",
       "</table>\n",
       "<p>400 rows × 2 columns</p>\n",
       "</div>"
      ],
      "text/plain": [
       "                                  messages       intent\n",
       "0                     Can you speak to me?   Whisper on\n",
       "1                  Enable voice responses.   Whisper on\n",
       "2                   Turn on voice replies.   Whisper on\n",
       "3           Can you reply with your voice?   Whisper on\n",
       "4                Activate audio responses.   Whisper on\n",
       "..                                     ...          ...\n",
       "395             Turn on text replies only.  Whisper off\n",
       "396                 I prefer text answers.  Whisper off\n",
       "397               Disable voice responses.  Whisper off\n",
       "398     Can you answer using text instead?  Whisper off\n",
       "399  Use text to respond instead of voice.  Whisper off\n",
       "\n",
       "[400 rows x 2 columns]"
      ]
     },
<<<<<<< HEAD
     "execution_count": 5,
=======
     "execution_count": 24,
>>>>>>> e14947974958d715e5f018393eacc28abbe98ac1
     "metadata": {},
     "output_type": "execute_result"
    }
   ],
   "source": [
    "whisper_intent = pd.read_csv(\"../assistant/data/whisper_intents.csv\")\n",
    "whisper_intent"
   ]
  },
  {
   "cell_type": "code",
<<<<<<< HEAD
   "execution_count": 6,
=======
   "execution_count": 25,
>>>>>>> e14947974958d715e5f018393eacc28abbe98ac1
   "metadata": {},
   "outputs": [
    {
     "data": {
      "text/html": [
       "<div>\n",
       "<style scoped>\n",
       "    .dataframe tbody tr th:only-of-type {\n",
       "        vertical-align: middle;\n",
       "    }\n",
       "\n",
       "    .dataframe tbody tr th {\n",
       "        vertical-align: top;\n",
       "    }\n",
       "\n",
       "    .dataframe thead th {\n",
       "        text-align: right;\n",
       "    }\n",
       "</style>\n",
       "<table border=\"1\" class=\"dataframe\">\n",
       "  <thead>\n",
       "    <tr style=\"text-align: right;\">\n",
       "      <th></th>\n",
       "      <th>messages</th>\n",
       "      <th>intent</th>\n",
       "    </tr>\n",
       "  </thead>\n",
       "  <tbody>\n",
       "    <tr>\n",
       "      <th>0</th>\n",
       "      <td>What's the weather like today?</td>\n",
       "      <td>Negative</td>\n",
       "    </tr>\n",
       "    <tr>\n",
       "      <th>1</th>\n",
       "      <td>What's the price of gold today?</td>\n",
       "      <td>Negative</td>\n",
       "    </tr>\n",
       "    <tr>\n",
       "      <th>2</th>\n",
       "      <td>I want to book a flight ticket.</td>\n",
       "      <td>Negative</td>\n",
       "    </tr>\n",
       "    <tr>\n",
       "      <th>3</th>\n",
       "      <td>Can you tell me the current exchange rate?</td>\n",
       "      <td>Negative</td>\n",
       "    </tr>\n",
       "    <tr>\n",
       "      <th>4</th>\n",
       "      <td>How do I cook pho?</td>\n",
       "      <td>Negative</td>\n",
       "    </tr>\n",
       "    <tr>\n",
       "      <th>...</th>\n",
       "      <td>...</td>\n",
       "      <td>...</td>\n",
       "    </tr>\n",
       "    <tr>\n",
       "      <th>1637</th>\n",
       "      <td>Enumerate your range of capabilities.</td>\n",
       "      <td>Ask Features</td>\n",
       "    </tr>\n",
       "    <tr>\n",
       "      <th>1638</th>\n",
       "      <td>Describe what kind of tasks you can handle.</td>\n",
       "      <td>Ask Features</td>\n",
       "    </tr>\n",
       "    <tr>\n",
       "      <th>1639</th>\n",
       "      <td>Detail the functions you excel in.</td>\n",
       "      <td>Ask Features</td>\n",
       "    </tr>\n",
       "    <tr>\n",
       "      <th>1640</th>\n",
       "      <td>Explain your range of assistance.</td>\n",
       "      <td>Ask Features</td>\n",
       "    </tr>\n",
       "    <tr>\n",
       "      <th>1641</th>\n",
       "      <td>Describe what you can help</td>\n",
       "      <td>Ask Features</td>\n",
       "    </tr>\n",
       "  </tbody>\n",
       "</table>\n",
       "<p>1642 rows × 2 columns</p>\n",
       "</div>"
      ],
      "text/plain": [
       "                                         messages        intent\n",
       "0                  What's the weather like today?      Negative\n",
       "1                 What's the price of gold today?      Negative\n",
       "2                 I want to book a flight ticket.      Negative\n",
       "3      Can you tell me the current exchange rate?      Negative\n",
       "4                              How do I cook pho?      Negative\n",
       "...                                           ...           ...\n",
       "1637        Enumerate your range of capabilities.  Ask Features\n",
       "1638  Describe what kind of tasks you can handle.  Ask Features\n",
       "1639           Detail the functions you excel in.  Ask Features\n",
       "1640            Explain your range of assistance.  Ask Features\n",
       "1641                   Describe what you can help  Ask Features\n",
       "\n",
       "[1642 rows x 2 columns]"
      ]
     },
<<<<<<< HEAD
     "execution_count": 6,
=======
     "execution_count": 25,
>>>>>>> e14947974958d715e5f018393eacc28abbe98ac1
     "metadata": {},
     "output_type": "execute_result"
    }
   ],
   "source": [
    "common_intent_df = pd.read_csv(\"../assistant/data/common_intents.csv\")\n",
    "common_intent_df"
   ]
  },
  {
   "cell_type": "code",
<<<<<<< HEAD
   "execution_count": 7,
=======
   "execution_count": 26,
>>>>>>> e14947974958d715e5f018393eacc28abbe98ac1
   "metadata": {},
   "outputs": [],
   "source": [
    "# Shuffle DataFrame common_intent_df\n",
    "common_intent_df = common_intent_df.sample(frac=1).reset_index(drop=True)\n",
    "\n",
    "# 400 sample\n",
    "sampled_common_messages = common_intent_df['messages'].head(400)\n",
    "\n",
    "whisper_intent_extent = whisper_intent.copy()\n",
    "whisper_intent_extent['messages'] = whisper_intent['messages'] + ' ' + sampled_common_messages\n"
   ]
  },
  {
   "cell_type": "code",
<<<<<<< HEAD
   "execution_count": 8,
=======
   "execution_count": 27,
>>>>>>> e14947974958d715e5f018393eacc28abbe98ac1
   "metadata": {},
   "outputs": [],
   "source": [
    "mapping = {\n",
    "    \"Whisper on\": \"whisperon_n_intent\",\n",
    "    \"Whisper off\": \"whisperoff_n_intent\"\n",
    "}\n",
    "\n",
    "whisper_intent_extent['intent'] = whisper_intent_extent['intent'].map(mapping)"
   ]
  },
  {
   "cell_type": "code",
<<<<<<< HEAD
   "execution_count": 9,
=======
   "execution_count": 28,
>>>>>>> e14947974958d715e5f018393eacc28abbe98ac1
   "metadata": {},
   "outputs": [
    {
     "data": {
      "text/html": [
       "<div>\n",
       "<style scoped>\n",
       "    .dataframe tbody tr th:only-of-type {\n",
       "        vertical-align: middle;\n",
       "    }\n",
       "\n",
       "    .dataframe tbody tr th {\n",
       "        vertical-align: top;\n",
       "    }\n",
       "\n",
       "    .dataframe thead th {\n",
       "        text-align: right;\n",
       "    }\n",
       "</style>\n",
       "<table border=\"1\" class=\"dataframe\">\n",
       "  <thead>\n",
       "    <tr style=\"text-align: right;\">\n",
       "      <th></th>\n",
       "      <th>messages</th>\n",
       "      <th>intent</th>\n",
       "    </tr>\n",
       "  </thead>\n",
       "  <tbody>\n",
       "    <tr>\n",
       "      <th>0</th>\n",
<<<<<<< HEAD
       "      <td>Can you speak to me? Can you recommend a good ...</td>\n",
=======
       "      <td>Can you speak to me? How can I support educati...</td>\n",
>>>>>>> e14947974958d715e5f018393eacc28abbe98ac1
       "      <td>whisperon_n_intent</td>\n",
       "    </tr>\n",
       "    <tr>\n",
       "      <th>1</th>\n",
<<<<<<< HEAD
       "      <td>Enable voice responses. Are there any courses ...</td>\n",
=======
       "      <td>Enable voice responses. Take me to the course ...</td>\n",
>>>>>>> e14947974958d715e5f018393eacc28abbe98ac1
       "      <td>whisperon_n_intent</td>\n",
       "    </tr>\n",
       "    <tr>\n",
       "      <th>2</th>\n",
<<<<<<< HEAD
       "      <td>Turn on voice replies. Hi, are you a real person?</td>\n",
=======
       "      <td>Turn on voice replies. How difficult is the Vi...</td>\n",
>>>>>>> e14947974958d715e5f018393eacc28abbe98ac1
       "      <td>whisperon_n_intent</td>\n",
       "    </tr>\n",
       "    <tr>\n",
       "      <th>3</th>\n",
<<<<<<< HEAD
       "      <td>Can you reply with your voice? What are the sy...</td>\n",
=======
       "      <td>Can you reply with your voice? Display the lan...</td>\n",
>>>>>>> e14947974958d715e5f018393eacc28abbe98ac1
       "      <td>whisperon_n_intent</td>\n",
       "    </tr>\n",
       "    <tr>\n",
       "      <th>4</th>\n",
<<<<<<< HEAD
       "      <td>Activate audio responses. Can you recommend re...</td>\n",
=======
       "      <td>Activate audio responses. Search for courses i...</td>\n",
>>>>>>> e14947974958d715e5f018393eacc28abbe98ac1
       "      <td>whisperon_n_intent</td>\n",
       "    </tr>\n",
       "    <tr>\n",
       "      <th>...</th>\n",
       "      <td>...</td>\n",
       "      <td>...</td>\n",
       "    </tr>\n",
       "    <tr>\n",
       "      <th>795</th>\n",
       "      <td>Turn on text replies only.</td>\n",
       "      <td>Whisper off</td>\n",
       "    </tr>\n",
       "    <tr>\n",
       "      <th>796</th>\n",
       "      <td>I prefer text answers.</td>\n",
       "      <td>Whisper off</td>\n",
       "    </tr>\n",
       "    <tr>\n",
       "      <th>797</th>\n",
       "      <td>Disable voice responses.</td>\n",
       "      <td>Whisper off</td>\n",
       "    </tr>\n",
       "    <tr>\n",
       "      <th>798</th>\n",
       "      <td>Can you answer using text instead?</td>\n",
       "      <td>Whisper off</td>\n",
       "    </tr>\n",
       "    <tr>\n",
       "      <th>799</th>\n",
       "      <td>Use text to respond instead of voice.</td>\n",
       "      <td>Whisper off</td>\n",
       "    </tr>\n",
       "  </tbody>\n",
       "</table>\n",
       "<p>800 rows × 2 columns</p>\n",
       "</div>"
      ],
      "text/plain": [
       "                                              messages              intent\n",
<<<<<<< HEAD
       "0    Can you speak to me? Can you recommend a good ...  whisperon_n_intent\n",
       "1    Enable voice responses. Are there any courses ...  whisperon_n_intent\n",
       "2    Turn on voice replies. Hi, are you a real person?  whisperon_n_intent\n",
       "3    Can you reply with your voice? What are the sy...  whisperon_n_intent\n",
       "4    Activate audio responses. Can you recommend re...  whisperon_n_intent\n",
=======
       "0    Can you speak to me? How can I support educati...  whisperon_n_intent\n",
       "1    Enable voice responses. Take me to the course ...  whisperon_n_intent\n",
       "2    Turn on voice replies. How difficult is the Vi...  whisperon_n_intent\n",
       "3    Can you reply with your voice? Display the lan...  whisperon_n_intent\n",
       "4    Activate audio responses. Search for courses i...  whisperon_n_intent\n",
>>>>>>> e14947974958d715e5f018393eacc28abbe98ac1
       "..                                                 ...                 ...\n",
       "795                         Turn on text replies only.         Whisper off\n",
       "796                             I prefer text answers.         Whisper off\n",
       "797                           Disable voice responses.         Whisper off\n",
       "798                 Can you answer using text instead?         Whisper off\n",
       "799              Use text to respond instead of voice.         Whisper off\n",
       "\n",
       "[800 rows x 2 columns]"
      ]
     },
<<<<<<< HEAD
     "execution_count": 9,
=======
     "execution_count": 28,
>>>>>>> e14947974958d715e5f018393eacc28abbe98ac1
     "metadata": {},
     "output_type": "execute_result"
    }
   ],
   "source": [
    "whisper_intent_extent = pd.concat([whisper_intent_extent, whisper_intent], ignore_index=True)\n",
    "whisper_intent_extent"
   ]
  },
  {
   "cell_type": "code",
<<<<<<< HEAD
   "execution_count": 10,
=======
   "execution_count": 29,
>>>>>>> e14947974958d715e5f018393eacc28abbe98ac1
   "metadata": {},
   "outputs": [],
   "source": [
    "# Shuffle DataFrame common_intent_df\n",
    "common_intent_df = common_intent_df.sample(frac=1).reset_index(drop=True)\n",
    "\n",
    "# 500 sample\n",
    "sampled_common_intent_df = common_intent_df.sample(n=500)\n",
    "sampled_common_intent_df['intent'] = 'Common'\n",
    "sampled_common_intent_df\n",
    "train_whisper_intents = pd.concat([whisper_intent_extent, sampled_common_intent_df], ignore_index=True)\n"
   ]
  },
  {
   "cell_type": "code",
<<<<<<< HEAD
   "execution_count": 11,
=======
   "execution_count": 30,
   "metadata": {},
   "outputs": [],
   "source": [
    "train_whisper_intents.to_csv(\"../assistant/data/train_whisper.csv\", index=False)"
   ]
  },
  {
   "cell_type": "code",
   "execution_count": 31,
>>>>>>> e14947974958d715e5f018393eacc28abbe98ac1
   "metadata": {},
   "outputs": [
    {
     "data": {
      "text/html": [
       "<div>\n",
       "<style scoped>\n",
       "    .dataframe tbody tr th:only-of-type {\n",
       "        vertical-align: middle;\n",
       "    }\n",
       "\n",
       "    .dataframe tbody tr th {\n",
       "        vertical-align: top;\n",
       "    }\n",
       "\n",
       "    .dataframe thead th {\n",
       "        text-align: right;\n",
       "    }\n",
       "</style>\n",
       "<table border=\"1\" class=\"dataframe\">\n",
       "  <thead>\n",
       "    <tr style=\"text-align: right;\">\n",
       "      <th></th>\n",
       "      <th>messages</th>\n",
       "      <th>intent</th>\n",
       "    </tr>\n",
       "  </thead>\n",
       "  <tbody>\n",
       "    <tr>\n",
       "      <th>0</th>\n",
<<<<<<< HEAD
       "      <td>Can you answer without sound? What's the name ...</td>\n",
       "      <td>whisperoff_n_intent</td>\n",
       "    </tr>\n",
       "    <tr>\n",
       "      <th>1</th>\n",
       "      <td>Can you respond with your voice?</td>\n",
=======
       "      <td>I prefer written answers.</td>\n",
       "      <td>Whisper off</td>\n",
       "    </tr>\n",
       "    <tr>\n",
       "      <th>1</th>\n",
       "      <td>Enable your voice responses.</td>\n",
>>>>>>> e14947974958d715e5f018393eacc28abbe98ac1
       "      <td>Whisper on</td>\n",
       "    </tr>\n",
       "    <tr>\n",
       "      <th>2</th>\n",
<<<<<<< HEAD
       "      <td>Can you give sound responses? Hello, what name...</td>\n",
       "      <td>whisperon_n_intent</td>\n",
       "    </tr>\n",
       "    <tr>\n",
       "      <th>3</th>\n",
       "      <td>Talk to me through text only. Can you explain ...</td>\n",
       "      <td>whisperoff_n_intent</td>\n",
       "    </tr>\n",
       "    <tr>\n",
       "      <th>4</th>\n",
       "      <td>Turn off text and speak to me. Which skills wi...</td>\n",
       "      <td>whisperon_n_intent</td>\n",
=======
       "      <td>How do I set up a home Wi-Fi network?</td>\n",
       "      <td>Common</td>\n",
       "    </tr>\n",
       "    <tr>\n",
       "      <th>3</th>\n",
       "      <td>Hi, need some guidance</td>\n",
       "      <td>Common</td>\n",
       "    </tr>\n",
       "    <tr>\n",
       "      <th>4</th>\n",
       "      <td>Can you talk out loud to me?</td>\n",
       "      <td>Whisper on</td>\n",
>>>>>>> e14947974958d715e5f018393eacc28abbe98ac1
       "    </tr>\n",
       "    <tr>\n",
       "      <th>...</th>\n",
       "      <td>...</td>\n",
       "      <td>...</td>\n",
       "    </tr>\n",
       "    <tr>\n",
       "      <th>1295</th>\n",
<<<<<<< HEAD
       "      <td>I want text communication.</td>\n",
=======
       "      <td>Switch off audio mode.</td>\n",
>>>>>>> e14947974958d715e5f018393eacc28abbe98ac1
       "      <td>Whisper off</td>\n",
       "    </tr>\n",
       "    <tr>\n",
       "      <th>1296</th>\n",
<<<<<<< HEAD
       "      <td>What are the system requirements for using the...</td>\n",
       "      <td>Common</td>\n",
       "    </tr>\n",
       "    <tr>\n",
       "      <th>1297</th>\n",
       "      <td>Turn on audio replies. What can you do for me?</td>\n",
=======
       "      <td>Can you answer with text?</td>\n",
       "      <td>Whisper off</td>\n",
       "    </tr>\n",
       "    <tr>\n",
       "      <th>1297</th>\n",
       "      <td>Switch on voice mode. Which skills will I lear...</td>\n",
>>>>>>> e14947974958d715e5f018393eacc28abbe98ac1
       "      <td>whisperon_n_intent</td>\n",
       "    </tr>\n",
       "    <tr>\n",
       "      <th>1298</th>\n",
<<<<<<< HEAD
       "      <td>Enumerate your supported tasks.</td>\n",
=======
       "      <td>How do I create a meal plan?</td>\n",
>>>>>>> e14947974958d715e5f018393eacc28abbe98ac1
       "      <td>Common</td>\n",
       "    </tr>\n",
       "    <tr>\n",
       "      <th>1299</th>\n",
<<<<<<< HEAD
       "      <td>Hi, what’s happening?</td>\n",
       "      <td>Common</td>\n",
=======
       "      <td>Can you respond in text? Hello, need assistance</td>\n",
       "      <td>whisperoff_n_intent</td>\n",
>>>>>>> e14947974958d715e5f018393eacc28abbe98ac1
       "    </tr>\n",
       "  </tbody>\n",
       "</table>\n",
       "<p>1300 rows × 2 columns</p>\n",
       "</div>"
      ],
      "text/plain": [
       "                                               messages               intent\n",
<<<<<<< HEAD
       "0     Can you answer without sound? What's the name ...  whisperoff_n_intent\n",
       "1                      Can you respond with your voice?           Whisper on\n",
       "2     Can you give sound responses? Hello, what name...   whisperon_n_intent\n",
       "3     Talk to me through text only. Can you explain ...  whisperoff_n_intent\n",
       "4     Turn off text and speak to me. Which skills wi...   whisperon_n_intent\n",
       "...                                                 ...                  ...\n",
       "1295                         I want text communication.          Whisper off\n",
       "1296  What are the system requirements for using the...               Common\n",
       "1297     Turn on audio replies. What can you do for me?   whisperon_n_intent\n",
       "1298                    Enumerate your supported tasks.               Common\n",
       "1299                              Hi, what’s happening?               Common\n",
=======
       "0                             I prefer written answers.          Whisper off\n",
       "1                          Enable your voice responses.           Whisper on\n",
       "2                 How do I set up a home Wi-Fi network?               Common\n",
       "3                                Hi, need some guidance               Common\n",
       "4                          Can you talk out loud to me?           Whisper on\n",
       "...                                                 ...                  ...\n",
       "1295                             Switch off audio mode.          Whisper off\n",
       "1296                          Can you answer with text?          Whisper off\n",
       "1297  Switch on voice mode. Which skills will I lear...   whisperon_n_intent\n",
       "1298                       How do I create a meal plan?               Common\n",
       "1299    Can you respond in text? Hello, need assistance  whisperoff_n_intent\n",
>>>>>>> e14947974958d715e5f018393eacc28abbe98ac1
       "\n",
       "[1300 rows x 2 columns]"
      ]
     },
<<<<<<< HEAD
     "execution_count": 11,
=======
     "execution_count": 31,
>>>>>>> e14947974958d715e5f018393eacc28abbe98ac1
     "metadata": {},
     "output_type": "execute_result"
    }
   ],
   "source": [
    "train_whisper_intents = train_whisper_intents.sample(frac=1).reset_index(drop=True)\n",
    "train_whisper_intents"
   ]
  },
  {
   "cell_type": "markdown",
   "metadata": {},
   "source": [
    "# Init model"
   ]
  },
  {
   "cell_type": "code",
<<<<<<< HEAD
   "execution_count": 12,
   "metadata": {},
   "outputs": [
    {
     "name": "stderr",
     "output_type": "stream",
     "text": [
      "/opt/anaconda3/envs/rasa/lib/python3.9/site-packages/tqdm/auto.py:21: TqdmWarning: IProgress not found. Please update jupyter and ipywidgets. See https://ipywidgets.readthedocs.io/en/stable/user_install.html\n",
      "  from .autonotebook import tqdm as notebook_tqdm\n"
     ]
    }
   ],
=======
   "execution_count": 32,
   "metadata": {},
   "outputs": [],
>>>>>>> e14947974958d715e5f018393eacc28abbe98ac1
   "source": [
    "import numpy as np \n",
    "import torch\n",
    "import torch.nn as nn\n",
    "from sklearn.model_selection import train_test_split\n",
    "from sklearn.metrics import accuracy_score\n",
    "from torch.utils.data import DataLoader, TensorDataset\n",
    "from transformers import AutoTokenizer, RobertaModel, TrainingArguments, Trainer"
   ]
  },
  {
   "cell_type": "code",
<<<<<<< HEAD
   "execution_count": 26,
   "metadata": {},
   "outputs": [],
=======
   "execution_count": 33,
   "metadata": {},
   "outputs": [
    {
     "name": "stderr",
     "output_type": "stream",
     "text": [
      "Some weights of RobertaModel were not initialized from the model checkpoint at FacebookAI/roberta-base and are newly initialized: ['roberta.pooler.dense.bias', 'roberta.pooler.dense.weight']\n",
      "You should probably TRAIN this model on a down-stream task to be able to use it for predictions and inference.\n"
     ]
    }
   ],
>>>>>>> e14947974958d715e5f018393eacc28abbe98ac1
   "source": [
    "# define RoBERTa model\n",
    "roberta_tokenizer = AutoTokenizer.from_pretrained(\"FacebookAI/roberta-base\")\n",
    "roberta_model = RobertaModel.from_pretrained(\"FacebookAI/roberta-base\")"
   ]
  },
  {
   "cell_type": "code",
<<<<<<< HEAD
   "execution_count": 14,
=======
   "execution_count": 34,
   "metadata": {},
   "outputs": [
    {
     "data": {
      "text/html": [
       "<div>\n",
       "<style scoped>\n",
       "    .dataframe tbody tr th:only-of-type {\n",
       "        vertical-align: middle;\n",
       "    }\n",
       "\n",
       "    .dataframe tbody tr th {\n",
       "        vertical-align: top;\n",
       "    }\n",
       "\n",
       "    .dataframe thead th {\n",
       "        text-align: right;\n",
       "    }\n",
       "</style>\n",
       "<table border=\"1\" class=\"dataframe\">\n",
       "  <thead>\n",
       "    <tr style=\"text-align: right;\">\n",
       "      <th></th>\n",
       "      <th>messages</th>\n",
       "      <th>intent</th>\n",
       "    </tr>\n",
       "  </thead>\n",
       "  <tbody>\n",
       "    <tr>\n",
       "      <th>0</th>\n",
       "      <td>Talk to me using your voice. Access the course...</td>\n",
       "      <td>whisperon_n_intent</td>\n",
       "    </tr>\n",
       "    <tr>\n",
       "      <th>1</th>\n",
       "      <td>Deactivate sound mode. What skills are emphasi...</td>\n",
       "      <td>whisperoff_n_intent</td>\n",
       "    </tr>\n",
       "    <tr>\n",
       "      <th>2</th>\n",
       "      <td>Can you type back to me? Can you recommend a c...</td>\n",
       "      <td>whisperoff_n_intent</td>\n",
       "    </tr>\n",
       "    <tr>\n",
       "      <th>3</th>\n",
       "      <td>Can you reply with sound? How do I use the cal...</td>\n",
       "      <td>whisperon_n_intent</td>\n",
       "    </tr>\n",
       "    <tr>\n",
       "      <th>4</th>\n",
       "      <td>Are there any part-time options available for ...</td>\n",
       "      <td>Common</td>\n",
       "    </tr>\n",
       "    <tr>\n",
       "      <th>...</th>\n",
       "      <td>...</td>\n",
       "      <td>...</td>\n",
       "    </tr>\n",
       "    <tr>\n",
       "      <th>1295</th>\n",
       "      <td>What are the policies regarding educational be...</td>\n",
       "      <td>Common</td>\n",
       "    </tr>\n",
       "    <tr>\n",
       "      <th>1296</th>\n",
       "      <td>Can you switch to text?</td>\n",
       "      <td>Whisper off</td>\n",
       "    </tr>\n",
       "    <tr>\n",
       "      <th>1297</th>\n",
       "      <td>Open the landing page for Business Analytics a...</td>\n",
       "      <td>Common</td>\n",
       "    </tr>\n",
       "    <tr>\n",
       "      <th>1298</th>\n",
       "      <td>Can you suggest any online resources for learn...</td>\n",
       "      <td>Common</td>\n",
       "    </tr>\n",
       "    <tr>\n",
       "      <th>1299</th>\n",
       "      <td>Can you use your voice to reply?</td>\n",
       "      <td>Whisper on</td>\n",
       "    </tr>\n",
       "  </tbody>\n",
       "</table>\n",
       "<p>1300 rows × 2 columns</p>\n",
       "</div>"
      ],
      "text/plain": [
       "                                               messages               intent\n",
       "0     Talk to me using your voice. Access the course...   whisperon_n_intent\n",
       "1     Deactivate sound mode. What skills are emphasi...  whisperoff_n_intent\n",
       "2     Can you type back to me? Can you recommend a c...  whisperoff_n_intent\n",
       "3     Can you reply with sound? How do I use the cal...   whisperon_n_intent\n",
       "4     Are there any part-time options available for ...               Common\n",
       "...                                                 ...                  ...\n",
       "1295  What are the policies regarding educational be...               Common\n",
       "1296                            Can you switch to text?          Whisper off\n",
       "1297  Open the landing page for Business Analytics a...               Common\n",
       "1298  Can you suggest any online resources for learn...               Common\n",
       "1299                   Can you use your voice to reply?           Whisper on\n",
       "\n",
       "[1300 rows x 2 columns]"
      ]
     },
     "execution_count": 34,
     "metadata": {},
     "output_type": "execute_result"
    }
   ],
   "source": [
    "train_whisper_intents = pd.read_csv(\"../assistant/data/train_whisper.csv\")\n",
    "train_whisper_intents = train_whisper_intents.sample(frac=1).reset_index(drop=True)\n",
    "train_whisper_intents"
   ]
  },
  {
   "cell_type": "code",
   "execution_count": 35,
>>>>>>> e14947974958d715e5f018393eacc28abbe98ac1
   "metadata": {},
   "outputs": [],
   "source": [
    "intents = {\n",
    "    'Whisper on': 0,\n",
    "    'Whisper off': 1,\n",
    "    'whisperon_n_intent': 2,\n",
    "    'whisperoff_n_intent': 3,\n",
    "    'Common': 4,\n",
    "}\n",
    "for item in train_whisper_intents[\"intent\"]:\n",
    "    if item not in intents:\n",
    "        print(f\"intent value '{item}' not found in intents dictionary.\")"
   ]
  },
  {
   "cell_type": "code",
<<<<<<< HEAD
   "execution_count": 15,
=======
   "execution_count": 36,
>>>>>>> e14947974958d715e5f018393eacc28abbe98ac1
   "metadata": {},
   "outputs": [],
   "source": [
    "train_data, test_data = train_test_split(train_whisper_intents, test_size=0.2, random_state=42)\n",
    "\n",
    "def prepare_input_data(data):\n",
    "    encoded_data = roberta_tokenizer(data[\"messages\"].tolist(), padding=True, truncation=True, return_tensors=\"pt\")\n",
    "    return encoded_data"
   ]
  },
  {
   "cell_type": "code",
<<<<<<< HEAD
   "execution_count": 16,
=======
   "execution_count": 37,
>>>>>>> e14947974958d715e5f018393eacc28abbe98ac1
   "metadata": {},
   "outputs": [
    {
     "name": "stdout",
     "output_type": "stream",
     "text": [
      "1040\n",
      "1040\n"
     ]
    }
   ],
   "source": [
    "train_inputs = prepare_input_data(train_data)\n",
    "test_inputs = prepare_input_data(test_data)\n",
    "\n",
    "train_labels = torch.tensor([intents[item] for item in train_data[\"intent\"]])\n",
    "test_labels = torch.tensor([intents[item] for item in test_data[\"intent\"]])\n",
    "\n",
    "print(len(train_inputs['input_ids']))\n",
    "print(len(train_labels))"
   ]
  },
  {
   "cell_type": "code",
<<<<<<< HEAD
   "execution_count": 17,
=======
   "execution_count": 38,
>>>>>>> e14947974958d715e5f018393eacc28abbe98ac1
   "metadata": {},
   "outputs": [
    {
     "name": "stdout",
     "output_type": "stream",
     "text": [
      "Selected Device: mps\n"
     ]
    }
   ],
   "source": [
    "class WhisperIntentClassifier(nn.Module):\n",
    "    def __init__(self, bert_model, num_classes):\n",
    "        super(WhisperIntentClassifier, self).__init__()\n",
    "        self.bert = bert_model\n",
    "        self.relu1 = nn.ReLU()\n",
    "        self.relu2 = nn.ReLU()\n",
    "        self.fc = nn.Linear(self.bert.config.hidden_size, num_classes)\n",
    "\n",
    "    def forward(self, input_ids, attention_mask):\n",
    "        outputs = self.bert(input_ids, attention_mask=attention_mask)\n",
    "        pooled_output = outputs.last_hidden_state[:, 0, :]\n",
    "        x = self.relu1(pooled_output)\n",
    "        x = self.relu2(x)\n",
    "        logits = self.fc(x)\n",
    "        return logits\n",
    "    \n",
    "num_classes = 5\n",
    "model = WhisperIntentClassifier(roberta_model, num_classes)\n",
    "\n",
    "# Check if GPU is available and move the model to GPU\n",
    "device = torch.device(\"mps\" if torch.backends.mps.is_available() else \"cpu\")\n",
    "print(\"Selected Device:\", device)\n",
    "model = model.to(device)\n",
    "\n",
    "criterion = nn.CrossEntropyLoss()\n",
    "optimizer = torch.optim.Adam(model.parameters(), lr=2e-5)"
   ]
  },
  {
   "cell_type": "code",
<<<<<<< HEAD
   "execution_count": 18,
=======
   "execution_count": 39,
>>>>>>> e14947974958d715e5f018393eacc28abbe98ac1
   "metadata": {},
   "outputs": [
    {
     "name": "stdout",
     "output_type": "stream",
     "text": [
      "Selected Device: mps\n"
     ]
    }
   ],
   "source": [
    "if not torch.backends.mps.is_available():\n",
    "    if not torch.backends.mps.is_built():\n",
    "        print(\"MPS not available because the current PyTorch install was not \"\n",
    "              \"built with MPS enabled.\")\n",
    "    else:\n",
    "        print(\"MPS not available because the current MacOS version is not 12.3+ \"\n",
    "              \"and/or you do not have an MPS-enabled device on this machine.\")\n",
    "\n",
    "else:\n",
    "    print(\"Selected Device:\", device)\n",
    "    device = torch.device(\"mps\")\n"
   ]
  },
  {
   "cell_type": "code",
<<<<<<< HEAD
   "execution_count": 19,
=======
   "execution_count": 40,
>>>>>>> e14947974958d715e5f018393eacc28abbe98ac1
   "metadata": {},
   "outputs": [],
   "source": [
    "# Define batch size\n",
    "batch_size = 32\n",
    "\n",
    "# Create DataLoader for training data\n",
    "train_dataset = TensorDataset(train_inputs['input_ids'], train_inputs['attention_mask'], train_labels)\n",
    "train_data_loader = DataLoader(train_dataset, batch_size=batch_size, shuffle=True)"
   ]
  },
  {
   "cell_type": "code",
<<<<<<< HEAD
   "execution_count": 20,
=======
   "execution_count": 41,
>>>>>>> e14947974958d715e5f018393eacc28abbe98ac1
   "metadata": {},
   "outputs": [
    {
     "name": "stdout",
     "output_type": "stream",
     "text": [
<<<<<<< HEAD
      "Epoch 1/5, Average Loss: 1.3517395655314128\n",
      "Epoch 2/5, Average Loss: 0.548682810682239\n",
      "Epoch 3/5, Average Loss: 0.11727758429267189\n",
      "Epoch 4/5, Average Loss: 0.029825625997601135\n",
      "Epoch 5/5, Average Loss: 0.01649560034275055\n"
=======
      "Epoch 1/5, Average Loss: 1.415626681212223\n",
      "Epoch 2/5, Average Loss: 0.5343297137455507\n",
      "Epoch 3/5, Average Loss: 0.13849883131457097\n",
      "Epoch 4/5, Average Loss: 0.03334636354085171\n",
      "Epoch 5/5, Average Loss: 0.017525919092198212\n"
>>>>>>> e14947974958d715e5f018393eacc28abbe98ac1
     ]
    }
   ],
   "source": [
    "num_epochs = 5\n",
    "# Train the model\n",
    "for epoch in range(num_epochs):\n",
    "    model.train()\n",
    "    total_loss = 0\n",
    "    for batch in train_data_loader:\n",
    "        input_ids, attention_mask, labels = batch\n",
    "        input_ids, attention_mask, labels = input_ids.to(device), attention_mask.to(device), labels.to(device)\n",
    "        optimizer.zero_grad()\n",
    "        logits = model(input_ids, attention_mask)\n",
    "        loss = criterion(logits, labels)\n",
    "        loss.backward()\n",
    "        optimizer.step()\n",
    "        total_loss += loss.item()\n",
    "    print(f'Epoch {epoch + 1}/{num_epochs}, Average Loss: {total_loss / len(train_data_loader)}')"
   ]
  },
  {
   "cell_type": "code",
<<<<<<< HEAD
   "execution_count": 21,
=======
   "execution_count": 42,
>>>>>>> e14947974958d715e5f018393eacc28abbe98ac1
   "metadata": {},
   "outputs": [
    {
     "name": "stdout",
     "output_type": "stream",
     "text": [
<<<<<<< HEAD
      "Accuracy on test set: 99.23%\n"
=======
      "Accuracy on test set: 100.00%\n"
>>>>>>> e14947974958d715e5f018393eacc28abbe98ac1
     ]
    }
   ],
   "source": [
    "# Evaluation\n",
    "model.eval()\n",
    "with torch.no_grad():\n",
    "    # Move input data to the device\n",
    "    test_input_ids = test_inputs['input_ids'].to(device)\n",
    "    test_attention_mask = test_inputs['attention_mask'].to(device)\n",
    "    \n",
    "    # Forward pass\n",
    "    logits = model(test_input_ids, test_attention_mask)\n",
    "    predicted_labels = torch.argmax(logits, dim=1)\n",
    "    \n",
    "    # Move predicted labels back to CPU for accuracy calculation\n",
    "    predicted_labels = predicted_labels.cpu()\n",
    "    \n",
    "    # Calculate accuracy\n",
    "    accuracy = accuracy_score(test_labels, predicted_labels)\n",
    "    print(f'Accuracy on test set: {accuracy * 100:.2f}%')"
   ]
  },
  {
   "cell_type": "code",
<<<<<<< HEAD
   "execution_count": 22,
=======
   "execution_count": 43,
>>>>>>> e14947974958d715e5f018393eacc28abbe98ac1
   "metadata": {},
   "outputs": [
    {
     "data": {
      "text/plain": [
<<<<<<< HEAD
       "('models/whisper_intents/whisper_intent_tokenizer/tokenizer_config.json',\n",
       " 'models/whisper_intents/whisper_intent_tokenizer/special_tokens_map.json',\n",
       " 'models/whisper_intents/whisper_intent_tokenizer/vocab.json',\n",
       " 'models/whisper_intents/whisper_intent_tokenizer/merges.txt',\n",
       " 'models/whisper_intents/whisper_intent_tokenizer/added_tokens.json',\n",
       " 'models/whisper_intents/whisper_intent_tokenizer/tokenizer.json')"
      ]
     },
     "execution_count": 22,
=======
       "('../ui/services/intent_handlers/models/whisper_intents/whisper_intent_tokenizer/tokenizer_config.json',\n",
       " '../ui/services/intent_handlers/models/whisper_intents/whisper_intent_tokenizer/special_tokens_map.json',\n",
       " '../ui/services/intent_handlers/models/whisper_intents/whisper_intent_tokenizer/vocab.json',\n",
       " '../ui/services/intent_handlers/models/whisper_intents/whisper_intent_tokenizer/merges.txt',\n",
       " '../ui/services/intent_handlers/models/whisper_intents/whisper_intent_tokenizer/added_tokens.json',\n",
       " '../ui/services/intent_handlers/models/whisper_intents/whisper_intent_tokenizer/tokenizer.json')"
      ]
     },
     "execution_count": 43,
>>>>>>> e14947974958d715e5f018393eacc28abbe98ac1
     "metadata": {},
     "output_type": "execute_result"
    }
   ],
   "source": [
    "# Save model state_dict\n",
<<<<<<< HEAD
    "torch.save(model.state_dict(), 'models/whisper_intents/whisper_intent_model.pth')\n",
    "\n",
    "# Save tokenizer\n",
    "roberta_tokenizer.save_pretrained('models/whisper_intents/whisper_intent_tokenizer')"
=======
    "torch.save(model.state_dict(), 'models/whisper_intents/whisper_intent_model.pt')\n",
    "# Save tokenizer\n",
    "roberta_tokenizer.save_pretrained('models/whisper_intents/whisper_intent_tokenizer')\n",
    "\n",
    "# Save model state_dict\n",
    "torch.save(model.state_dict(), '../ui/services/intent_handlers/models/whisper_intents/whisper_intent_model.pt')\n",
    "# Save tokenizer\n",
    "roberta_tokenizer.save_pretrained('../ui/services/intent_handlers/models/whisper_intents/whisper_intent_tokenizer')"
>>>>>>> e14947974958d715e5f018393eacc28abbe98ac1
   ]
  },
  {
   "cell_type": "code",
<<<<<<< HEAD
   "execution_count": null,
   "metadata": {},
   "outputs": [],
=======
   "execution_count": 44,
   "metadata": {},
   "outputs": [
    {
     "name": "stdout",
     "output_type": "stream",
     "text": [
      "The predicted whisper intent for the sentence is: Common\n"
     ]
    }
   ],
>>>>>>> e14947974958d715e5f018393eacc28abbe98ac1
   "source": [
    "def predict_intents(sentence, model, tokenizer, tense_labels, device):\n",
    "    # Move model and tokenizer to the specified device\n",
    "    model = model.to(device)\n",
    "    tokenizer = tokenizer\n",
    "    \n",
    "    # Tokenize the sentence\n",
    "    encoded_sentence = tokenizer(sentence, padding=True, truncation=True, return_tensors=\"pt\").to(device)\n",
    "    \n",
    "    with torch.no_grad():\n",
    "        # Forward pass\n",
    "        logits = model(encoded_sentence['input_ids'], encoded_sentence['attention_mask'])\n",
    "        predicted_label = torch.argmax(logits, dim=1).item()\n",
    "    \n",
    "    # Get the predicted tense label\n",
    "    predicted_intent = [k for k, v in tense_labels.items() if v == predicted_label][0]\n",
    "    \n",
    "    return predicted_intent\n",
    "\n",
    "# Specify the device (e.g., 'cuda', 'mps' for GPU or 'cpu' for CPU)\n",
    "device = 'mps' if torch.backends.mps.is_available() else 'cpu'\n",
    "sentence_to_predict = \"\"\"\n",
<<<<<<< HEAD
    "Now let using voice and tell me who is your favourist teacher ?\n",
=======
    "Hello\n",
>>>>>>> e14947974958d715e5f018393eacc28abbe98ac1
    "\"\"\"\n",
    "predicted_intent = predict_intents(sentence_to_predict, model, roberta_tokenizer, intents, device)\n",
    "print(f\"The predicted whisper intent for the sentence is: {predicted_intent}\")\n"
   ]
  },
  {
   "cell_type": "code",
<<<<<<< HEAD
   "execution_count": 29,
   "metadata": {},
   "outputs": [
    {
     "name": "stdout",
     "output_type": "stream",
     "text": [
      "The predicted whisper intent for the sentence is: whisperon_n_intent\n"
     ]
    }
   ],
   "source": []
  },
  {
   "cell_type": "code",
=======
>>>>>>> e14947974958d715e5f018393eacc28abbe98ac1
   "execution_count": null,
   "metadata": {},
   "outputs": [],
   "source": []
  }
 ],
 "metadata": {
  "kernelspec": {
   "display_name": "trans",
   "language": "python",
   "name": "python3"
  },
  "language_info": {
   "codemirror_mode": {
    "name": "ipython",
    "version": 3
   },
   "file_extension": ".py",
   "mimetype": "text/x-python",
   "name": "python",
   "nbconvert_exporter": "python",
   "pygments_lexer": "ipython3",
   "version": "3.9.19"
  }
 },
 "nbformat": 4,
 "nbformat_minor": 2
}
